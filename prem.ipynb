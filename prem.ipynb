{
 "cells": [
  {
   "cell_type": "code",
   "execution_count": null,
   "id": "1c2b1b25",
   "metadata": {},
   "outputs": [],
   "source": [
    "import pandas as pd\n",
    "import numpy as np\n",
    "import re\n",
    "import matplotlib.pyplot as plt\n",
    "from sklearn.model_selection import train_test_split\n",
    "from sklearn.preprocessing import LabelEncoder\n",
    "from sklearn.feature_extraction.text import TfidfVectorizer\n",
    "from keras.models import Sequential\n",
    "from keras.layers import Dense, Dropout"
   ]
  },
  {
   "cell_type": "code",
   "execution_count": null,
   "id": "62680449",
   "metadata": {},
   "outputs": [],
   "source": [
    "df = pd.read_csv('dl senti.csv', encoding='ISO-8859-1')  \n",
    "def clean_text(text):\n",
    "    text = re.sub(r'[^\\w\\s]', '', text) \n",
    "    text = text.lower()  \n",
    "    return text\n",
    "df['Cleaned_Text'] = df['Text'].apply(clean_text)"
   ]
  },
  {
   "cell_type": "code",
   "execution_count": null,
   "id": "f2efa1bc",
   "metadata": {},
   "outputs": [],
   "source": [
    "\n",
    "label_encoder = LabelEncoder()\n",
    "df['Encoded_Sentiment'] = label_encoder.fit_transform(df['Sentiment'])\n",
    "\n",
    "X_train, X_test, y_train, y_test = train_test_split(df['Cleaned_Text'], df['Encoded_Sentiment'], test_size=0.2, random_state=42)\n",
    "\n",
    "vectorizer = TfidfVectorizer(max_features=5000)  \n",
    "X_train_vectorized = vectorizer.fit_transform(X_train).toarray()\n",
    "X_test_vectorized = vectorizer.transform(X_test).toarray()\n",
    "\n",
    "model = Sequential()\n",
    "model.add(Dense(128, activation='relu', input_dim=X_train_vectorized.shape[1]))\n",
    "model.add(Dropout(0.5))\n",
    "model.add(Dense(64, activation='relu'))\n",
    "model.add(Dropout(0.5))\n",
    "model.add(Dense(3, activation='softmax'))  \n",
    "\n",
    "model.compile(loss='sparse_categorical_crossentropy', optimizer='adam', metrics=['accuracy'])\n",
    "\n",
    "history = model.fit(X_train_vectorized, y_train, epochs=50, batch_size=10, validation_split=0.2)\n",
    "\n",
    "loss, accuracy = model.evaluate(X_test_vectorized, y_test)\n",
    "print(f'Test Accuracy: {accuracy:.2f}')\n",
    "\n",
    "plt.figure(figsize=(12, 6))\n",
    "plt.plot(history.history['accuracy'], label='Train Accuracy')\n",
    "plt.plot(history.history['val_accuracy'], label='Validation Accuracy')\n",
    "plt.title('Model Accuracy')\n",
    "plt.ylabel('Accuracy')\n",
    "plt.xlabel('Epoch')\n",
    "plt.legend(loc='upper left')\n",
    "plt.show()\n",
    "\n",
    "plt.figure(figsize=(12, 6))\n",
    "plt.plot(history.history['loss'], label='Train Loss')\n",
    "plt.plot(history.history['val_loss'], label='Validation Loss')\n",
    "plt.title('Model Loss')\n",
    "plt.ylabel('Loss')\n",
    "plt.xlabel('Epoch')\n",
    "plt.legend(loc='upper left')\n",
    "plt.show()\n",
    "\n",
    "def predict_sentiment(text):\n",
    "    cleaned_text = clean_text(text)\n",
    "    vectorized_text = vectorizer.transform([cleaned_text]).toarray()\n",
    "    prediction = model.predict(vectorized_text)\n",
    "    return label_encoder.inverse_transform([prediction.argmax()])[0]\n",
    "\n"
   ]
  },
  {
   "cell_type": "code",
   "execution_count": null,
   "id": "cfe085ac",
   "metadata": {},
   "outputs": [],
   "source": [
    "new_text = input(\"Enter the text from dataset\")\n",
    "print(f'Sentiment: {predict_sentiment(new_text)}')"
   ]
  },
  {
   "cell_type": "code",
   "execution_count": null,
   "id": "7b11c8ef",
   "metadata": {},
   "outputs": [],
   "source": [
    "new_text = input(\"Enter the text from dataset\")\n",
    "print(f'Sentiment: {predict_sentiment(new_text)}')"
   ]
  },
  {
   "cell_type": "code",
   "execution_count": null,
   "id": "f1f2a713-d65e-42ed-83d6-6cf45650ea7f",
   "metadata": {},
   "outputs": [],
   "source": [
    "new_text = input(\"Enter the text from dataset\")\n",
    "print(f'Sentiment: {predict_sentiment(new_text)}')"
   ]
  },
  {
   "cell_type": "code",
   "execution_count": null,
   "id": "37a5b97c-66fe-48db-92d2-8492ec6e6328",
   "metadata": {},
   "outputs": [],
   "source": []
  },
  {
   "cell_type": "code",
   "execution_count": null,
   "id": "70cc9787-555a-4544-b63b-c95653534a20",
   "metadata": {},
   "outputs": [],
   "source": []
  },
  {
   "cell_type": "code",
   "execution_count": null,
   "id": "ecfc5e77-34e0-4af0-93ff-c9b34ec418d5",
   "metadata": {},
   "outputs": [],
   "source": []
  },
  {
   "cell_type": "code",
   "execution_count": null,
   "id": "db476a49-7cd4-4405-9aa9-ed2faa7aeecb",
   "metadata": {},
   "outputs": [],
   "source": []
  },
  {
   "cell_type": "code",
   "execution_count": null,
   "id": "8424271a-4e09-4f2e-ad87-90f39c4f6cf9",
   "metadata": {},
   "outputs": [],
   "source": []
  },
  {
   "cell_type": "code",
   "execution_count": null,
   "id": "84526158-8ad9-4f03-8229-93a8101cf8cb",
   "metadata": {},
   "outputs": [],
   "source": []
  },
  {
   "cell_type": "code",
   "execution_count": null,
   "id": "d336e3d8-f208-4f39-8de5-6598bf2f5485",
   "metadata": {},
   "outputs": [],
   "source": []
  },
  {
   "cell_type": "code",
   "execution_count": null,
   "id": "399e840e-12ef-4dde-bb0e-1e5cee05e31f",
   "metadata": {},
   "outputs": [],
   "source": []
  },
  {
   "cell_type": "code",
   "execution_count": null,
   "id": "990edbff-0e25-4ea3-be45-a2871fdd523f",
   "metadata": {},
   "outputs": [],
   "source": []
  }
 ],
 "metadata": {
  "kernelspec": {
   "display_name": "Python 3 (ipykernel)",
   "language": "python",
   "name": "python3"
  },
  "language_info": {
   "codemirror_mode": {
    "name": "ipython",
    "version": 3
   },
   "file_extension": ".py",
   "mimetype": "text/x-python",
   "name": "python",
   "nbconvert_exporter": "python",
   "pygments_lexer": "ipython3",
   "version": "3.11.5"
  }
 },
 "nbformat": 4,
 "nbformat_minor": 5
}
